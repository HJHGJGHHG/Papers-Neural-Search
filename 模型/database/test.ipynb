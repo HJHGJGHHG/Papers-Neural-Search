{
 "cells": [
  {
   "cell_type": "code",
   "execution_count": 1,
   "metadata": {
    "collapsed": true
   },
   "outputs": [],
   "source": [
    "import pyodbc\n",
    "import random\n",
    "import pickle as pkl\n",
    "\n",
    "import sys\n",
    "\n",
    "sys.path.append(\"../\")\n",
    "from database.SQL import Sql\n",
    "\n",
    "cnxn = pyodbc.connect('DRIVER={SQL Server};SERVER=LAPTOP-38ACSOA2;DATABASE=情感分析系统;UID=sa;PWD=')"
   ]
  },
  {
   "cell_type": "code",
   "execution_count": 10,
   "outputs": [],
   "source": [
    "sql = \"SELECT 属性极性对, 评论内容 FROM 结论数据表, 评论数据表 WHERE 评论数据表.评论ID = 结论数据表.评论ID AND 商品ID=1\"\n",
    "results = Sql(cnxn, sql, isSelect=True)"
   ],
   "metadata": {
    "collapsed": false,
    "pycharm": {
     "name": "#%%\n"
    }
   }
  },
  {
   "cell_type": "code",
   "execution_count": 11,
   "outputs": [],
   "source": [
    "def concate_aspect_and_opinion(text, aspect, opinions):\n",
    "    aspect_text = \"\"\n",
    "    for opinion in opinions:\n",
    "        if text.find(aspect) <= text.find(opinion):\n",
    "            aspect_text += aspect + opinion + \"，\"\n",
    "        else:\n",
    "            aspect_text += opinion + aspect + \"，\"\n",
    "    aspect_text = aspect_text[:-1]\n",
    "\n",
    "    return list(aspect_text.split(\"，\"))"
   ],
   "metadata": {
    "collapsed": false,
    "pycharm": {
     "name": "#%%\n"
    }
   }
  },
  {
   "cell_type": "code",
   "execution_count": 12,
   "outputs": [],
   "source": [
    "aspects_texts_polarities = {}\n",
    "for result in results:\n",
    "    data = ([item.split(\"-\") for item in result[0].split(\";\")], result[1])\n",
    "    for item in data[0]:\n",
    "        if item[0] not in aspects_texts_polarities.keys():\n",
    "            aspects_texts_polarities[item[0]] = [[], []]\n",
    "\n",
    "        opinions = item[1].split(\",\")\n",
    "        aspect_texts = concate_aspect_and_opinion(data[1], item[0], opinions)\n",
    "        if item[2] == '正向':\n",
    "            aspects_texts_polarities[item[0]][0].extend(aspect_texts)\n",
    "        else:\n",
    "            aspects_texts_polarities[item[0]][1].extend(aspect_texts)"
   ],
   "metadata": {
    "collapsed": false,
    "pycharm": {
     "name": "#%%\n"
    }
   }
  },
  {
   "cell_type": "code",
   "execution_count": 15,
   "outputs": [],
   "source": [
    "from collections import Counter\n",
    "\n",
    "tmp = sorted(aspects_texts_polarities.items(), key=lambda x: len(x[1][0])+len(x[1][0]), reverse=True)"
   ],
   "metadata": {
    "collapsed": false,
    "pycharm": {
     "name": "#%%\n"
    }
   }
  },
  {
   "cell_type": "code",
   "execution_count": 16,
   "outputs": [
    {
     "name": "stdout",
     "output_type": "stream",
     "text": [
      "['味道好', '口感好', '包装好', '品质好', '菊花大', '价格实惠', '质量好', '颜色好看', '花朵大', '功效好', '效果好', '看着不错', '物流快', '携带方便', '冲泡方便', '性价比高', '品相不错', '东西不错', '香味浓', '天气干燥', '色泽漂亮', '泡开漂亮', '感觉好', '服务好', '干净卫生', '看起来不错', '外观好看', '个头大', '日期新鲜', '宝贝好', '杯子好看', '口味甘甜', '入口没有', '不错产品', '很味道口感', '泡水好看', '身体好', '看上去不错', '颜值高', '花型大', '发货快', '汤色好看', '好口感味道', '速度快', '态度好', '泡出来好看', '茶味道不错', '眼睛漂亮', '快递给力', '便宜多', '泡出漂亮', '枸杞好', '生意兴隆', '总体不错', '好保存', '形状好看', '干燥适中', '漂亮外型', '不错选择', '很好商品', '样子好看', '茶水清澈', '非常好商品功效', '泡茶挺好', '方法简单', '香气浓郁', '经济实惠', '多次购买', '商家贴心', '价钱实惠', '花瓣大', '分量足', '个人喜欢', '花香浓郁', '份量足', '愉快购物', '干净卫生', '茶叶好', '大小合适', '客服棒', '还可以去火', '还会再来', '小伙伴多', '降火不错', '店家便宜', '活动划算', '茶色好', '好果肉', '品牌值得信赖', '茶汤清亮', '花色美', '成色好', '好店铺', '水温够', '汤水不错', '缓解疲劳', '茶质量漂亮', '菊香味浓郁', '清香优雅', '气味清新', '整体不错', '外形好', '大一朵', '嗓子舒服', '花茶好', '多回购', '卖家好', '使用方便', '做工精致', '朵朵大', '卖家服务赞', '物品好', '香色全', '颗粒饱满', '茶口感不错', '简单方便', '售后好', '个儿大', '干净杂质', '图片好看', '高端大气', '好心情', '结果好', '花形好', '很好满意', '包裹严实', '数量多', '姿态优美', '卖相不错', '好评大', '囗感新鲜', '棒金丝', '家人喜欢', '色香甄', '产品质量好', '规格均匀', '开水很好', '密封新鲜', '看起漂亮', '小包方便', '心火旺', '常好推荐', '茶菊花好', '干燥季节', '泡发美', '花泡漂亮', '划算网购', '送货划算', '泡起很好', '绿化干净', '价比划算', '好降火效果', '茶叶口感好', '确实不错', '喝水多', '清新囤货', '疗效舒服', '口气清新', '到货快', '好视觉感觉', '药物健康', '细节暖心', '口干不错', '包装日期好', '物流速度快', '真的很不错', '菊花菜新鲜', '很好冰糖', '泡度赞', '奶茶多', '味道香香很好', '高设计', '货收满意', '泡泡不好', '好帮助', '酸酸好吃', '看上干净', '温馨提示', '散装大', '尺寸大', '很好大菊花', '观感漂亮', '超市划算', '冲开好看', '朵儿大', '造型好看', '品色好', '小莉好', '不错整体感觉', '色香味全', '老公喜欢', '卖家人好', '正品不错', '收到挺好', '清火很好', '确大朵', '快递员棒', '味儿很', '卫生系数高', '金色漂亮', '好质感', '清新可口', '鲜色好', '实体店便宜', '买东西挺好', '看过去好', '仔细认真', '非常好值', '菊花朵大', '眼看舒服', '确实挺不错', '容量大', '品想不错', '金丝黄错', '不错可以', '包装品质挺好', '茶花方便', '泡沫丰富', '朋友挺好', '白开水好', '优惠价划算', '气候干燥', '好冲品', '大包划算', '保质期新', '茶杯好看', '泡来好', '体验深刻', '不错价廉', '大肚新鲜', '饮用方便', '货物赞', '好饮品', '刺激大', '罐装好', '坏果好', '果子新鲜', '汁水足', '纸张不错', '闻着香', '牌子值得信赖', '便宜道理', '热水好看', '妈妈好', '漂亮再来', '金丝菊好', '大箱子', '材料新鲜', '地方舒服', '叶面大', '不错观赏性', '清肝明目', '茶品质不错', '还真多', '朵数大', '品象不错', '干燥度适中', '茶质干净', '看相不错', '伙伴多', '茶香清甜', '余味甘甜', '润水好', '黄色漂亮', '区别大', '不错喜欢', '商场划算', '漂亮花花', '价值高', '老人喜欢', '服务态度挺好', '产地优秀', '好搭档', '花香味诱人', '冲水好看', '生产日期新鲜', '茶叶质量好', '回味悠长', '直径大', '真的好', '叶子大', '清败火', '水分充足', '大销量', '形态漂亮', '好搭配', '很好养生', '非常好太喜欢', '好好好', '快递速度还好', '下单不错', '物理快', '收货快', '泡散好看', '特惠价划算', '同事香', '样式好看', '清新好看']\n",
      "['小赠品', '实物重', '多灰尘', '未道好', '变化不好', '小一包', '单霉味', '不好用', '不错挺好', '时间长', '理由差', '内容不行', '老客户', '袋子坏', '掉落严重', '产家贵', '款式不棒']\n"
     ]
    }
   ],
   "source": [
    "data = [[], []]\n",
    "for i in tmp:\n",
    "    if len(i[1][0]) > len(i[1][1]):\n",
    "        text = Counter(i[1][0]).most_common(1)[0][0]\n",
    "        if text[-1] == \"不\":\n",
    "            text += \"好\"\n",
    "        data[0].append(text)\n",
    "    else:\n",
    "        text = Counter(i[1][1]).most_common(1)[0][0]\n",
    "        if text[-1] == \"不\":\n",
    "            text += \"好\"\n",
    "        data[1].append(text)\n",
    "print(data[0])\n",
    "print(data[1])"
   ],
   "metadata": {
    "collapsed": false,
    "pycharm": {
     "name": "#%%\n"
    }
   }
  }
 ],
 "metadata": {
  "kernelspec": {
   "display_name": "Python 3",
   "language": "python",
   "name": "python3"
  },
  "language_info": {
   "codemirror_mode": {
    "name": "ipython",
    "version": 2
   },
   "file_extension": ".py",
   "mimetype": "text/x-python",
   "name": "python",
   "nbconvert_exporter": "python",
   "pygments_lexer": "ipython2",
   "version": "2.7.6"
  }
 },
 "nbformat": 4,
 "nbformat_minor": 0
}